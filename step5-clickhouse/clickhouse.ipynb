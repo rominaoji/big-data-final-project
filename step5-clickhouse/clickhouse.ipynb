{
 "cells": [
  {
   "cell_type": "code",
   "execution_count": null,
   "metadata": {
    "scrolled": true
   },
   "outputs": [],
   "source": [
    "from clickhouse_driver import Client\n",
    "client = Client(host='localhost',password='bahar1375')\n",
    "client.execute('SHOW DATABASES')"
   ]
  },
  {
   "cell_type": "code",
   "execution_count": null,
   "metadata": {},
   "outputs": [],
   "source": [
    "client.execute(' DROP TABLE IF  EXISTS default.posts')\n",
    "client.execute(' CREATE TABLE IF NOT EXISTS default.posts\\\n",
    "(\\\n",
    "    ID UUID,\\\n",
    "    sendTime DateTime,\\\n",
    "    senderName String,\\\n",
    "    senderUsername String,\\\n",
    "    keywords Array(String),\\\n",
    "    hashtags Array(String)\\\n",
    ") ENGINE = MergeTree()\\\n",
    "PARTITION BY toYYYYMMDD(sendTime)\\\n",
    "ORDER BY (sendTime);')"
   ]
  },
  {
   "cell_type": "code",
   "execution_count": null,
   "metadata": {},
   "outputs": [],
   "source": [
    "client.execute(' DROP TABLE IF  EXISTS readings_queue ')\n",
    "\n",
    "client.execute(\"CREATE TABLE readings_queue  (\\\n",
    "    message String\\\n",
    "  ) ENGINE = Kafka('185.236.37.254:9092', 'preProcessedData', 'group1', 'JSONAsString')\");\n"
   ]
  },
  {
   "cell_type": "code",
   "execution_count": null,
   "metadata": {},
   "outputs": [],
   "source": [
    "client.execute(' DROP TABLE IF  EXISTS posts_mv ')\n",
    "\n",
    "client.execute(\"CREATE MATERIALIZED VIEW posts_mv TO posts AS SELECT \\\n",
    "    toUUID(JSONExtractString(message, 'id')) AS ID ,\\\n",
    "    JSONExtractString(message, 'sender_name') AS senderName ,\\\n",
    "    JSONExtractString(message, 'sender_username') AS senderUsername, \\\n",
    "    toDateTime(FROM_UNIXTIME(toUInt64(JSONExtractFloat(message, 'send_time')),'%Y-%m-%d %R:%S')) AS sendTime, \\\n",
    "    JSONExtractArrayRaw(message, 'hashtags') as hashtags, \\\n",
    "    JSONExtractArrayRaw(message, 'keywords') as keywords \\\n",
    "    FROM readings_queue\")"
   ]
  },
  {
   "cell_type": "code",
   "execution_count": null,
   "metadata": {},
   "outputs": [],
   "source": [
    "client.execute(' select  * from  default.posts limit 3')"
   ]
  }
 ],
 "metadata": {
  "kernelspec": {
   "display_name": "Python 3",
   "language": "python",
   "name": "python3"
  },
  "language_info": {
   "codemirror_mode": {
    "name": "ipython",
    "version": 3
   },
   "file_extension": ".py",
   "mimetype": "text/x-python",
   "name": "python",
   "nbconvert_exporter": "python",
   "pygments_lexer": "ipython3",
   "version": "3.8.3"
  }
 },
 "nbformat": 4,
 "nbformat_minor": 5
}
