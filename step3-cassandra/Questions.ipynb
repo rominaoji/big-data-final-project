{
    "cells": [
        {
            "cell_type": "code",
            "execution_count": 1,
            "source": [
                "from cassandra.cluster import Cluster\n",
                "clstr = Cluster()\n",
                "session = clstr.connect('keystore')"
            ],
            "outputs": [],
            "metadata": {}
        },
        {
            "cell_type": "code",
            "execution_count": 33,
            "source": [
                "qry_count_post= '''select count(*) from posts;'''\n",
                "result=session.execute(qry_count_post)\n",
                "result._current_rows"
            ],
            "outputs": [
                {
                    "output_type": "execute_result",
                    "data": {
                        "text/plain": [
                            "[Row(count=10972)]"
                        ]
                    },
                    "metadata": {},
                    "execution_count": 33
                }
            ],
            "metadata": {}
        },
        {
            "cell_type": "code",
            "execution_count": 34,
            "source": [
                "qry_count_channel= '''select count(*) from channel;'''\n",
                "result=session.execute(qry_count_channel)\n",
                "result._current_rows"
            ],
            "outputs": [
                {
                    "output_type": "execute_result",
                    "data": {
                        "text/plain": [
                            "[Row(count=10971)]"
                        ]
                    },
                    "metadata": {},
                    "execution_count": 34
                }
            ],
            "metadata": {}
        },
        {
            "cell_type": "code",
            "execution_count": 35,
            "source": [
                "qry_count_keyword= '''select count(*) from keyword;'''\n",
                "result=session.execute(qry_count_keyword)\n",
                "result._current_rows"
            ],
            "outputs": [
                {
                    "output_type": "execute_result",
                    "data": {
                        "text/plain": [
                            "[Row(count=47412)]"
                        ]
                    },
                    "metadata": {},
                    "execution_count": 35
                }
            ],
            "metadata": {}
        },
        {
            "cell_type": "code",
            "execution_count": 39,
            "source": [
                "qry_post= '''select id from posts where sendtime >= '2021-07-20 18:00:00+0000' and sendtime <= '2021-07-20 19:00:00+0000' LIMIT 20 ALLOW FILTERING;'''\n",
                "result=session.execute(qry_post)\n",
                "result._current_rows\n"
            ],
            "outputs": [
                {
                    "output_type": "execute_result",
                    "data": {
                        "text/plain": [
                            "[Row(id='18ae062c-129a-4b49-89be-f7f46ad5ccc3'),\n",
                            " Row(id='92012c08-bc9c-427c-a1e1-456dd3f308f7'),\n",
                            " Row(id='e131c53b-d3a9-446d-9f39-248c030673e5'),\n",
                            " Row(id='50354317-f5c9-4339-90e0-06ffed80de78'),\n",
                            " Row(id='9de3fdc7-6b5d-48d8-b9a2-74fcdc530e2c'),\n",
                            " Row(id='06cd6c4d-e8d6-414c-b5ec-8fb6c569e4b0'),\n",
                            " Row(id='5df30c36-7f65-4bc4-9df2-49514f1c4f50'),\n",
                            " Row(id='b90f0cf9-44a2-4ef1-b2a5-66f84978c98c'),\n",
                            " Row(id='cac63704-6de7-4bca-a262-eb6f86be010c'),\n",
                            " Row(id='d987a63c-94bf-4ea9-845d-0ac39925a0a9'),\n",
                            " Row(id='fcdfd484-761e-462a-ab2b-f02b20eab5e3'),\n",
                            " Row(id='95fe1627-1d0f-4e30-8223-54ea766b1791'),\n",
                            " Row(id='3bfb9fde-1d9a-430f-86dd-c8bb0cc53513'),\n",
                            " Row(id='a4b9b034-94dd-4411-acd6-d99565acee85'),\n",
                            " Row(id='c8b673c9-cf84-4514-ba97-5b7c6b107a0f'),\n",
                            " Row(id='f265a8d5-0c32-4eb0-9ffb-a6ee76e65340'),\n",
                            " Row(id='a1a53da0-ea3e-40e8-8a62-1bd95189cf37'),\n",
                            " Row(id='a73c223e-3873-4fef-81ec-daeb80c1f651'),\n",
                            " Row(id='2a4c5459-8d50-4dd1-a2c0-897c63651bc2'),\n",
                            " Row(id='cbaef3f8-5feb-435b-8eec-30e83a805bb7')]"
                        ]
                    },
                    "metadata": {},
                    "execution_count": 39
                }
            ],
            "metadata": {}
        },
        {
            "cell_type": "code",
            "execution_count": 40,
            "source": [
                "qry_channel= '''select id from channel where sender='Akhbare_tazeh' and sendtime >= '2021-07-20 00:00:00+0000' and sendtime <= '2021-07-20 23:59:59+0000' LIMIT 20 ALLOW FILTERING;'''\n",
                "result=session.execute(qry_channel)\n",
                "result._current_rows"
            ],
            "outputs": [
                {
                    "output_type": "execute_result",
                    "data": {
                        "text/plain": [
                            "[Row(id='c8b7d21f-5f30-4c9c-bf65-5330286371dc'),\n",
                            " Row(id='a3a8f95c-db1e-4665-a8c6-2ab76605d48d'),\n",
                            " Row(id='7c4a33c4-19a7-45ff-aa53-a54af72a6892'),\n",
                            " Row(id='030e5ae2-a5ed-4312-8202-089270abc9ab'),\n",
                            " Row(id='752a52f8-6ba2-4d3b-ad49-e9874f678b07'),\n",
                            " Row(id='1a9af9c6-bdd4-45d3-be98-3c7afc52157c'),\n",
                            " Row(id='3e814870-388b-4dd6-a22d-f5c1d0ba4ca0'),\n",
                            " Row(id='b0d91a49-76cd-4a92-9bf3-61d26cde22dd'),\n",
                            " Row(id='910b496c-fd92-4135-a82d-e54d1da41d0e'),\n",
                            " Row(id='2925857c-525f-4b5d-902b-5c7e8941868e'),\n",
                            " Row(id='1400902d-ffe8-40ac-b33e-8b0370886a5c'),\n",
                            " Row(id='2b8191a9-f2c9-4cbd-a0e8-4b9cac61ce14'),\n",
                            " Row(id='e913a64c-ca26-4498-aef5-7bfd4832e113'),\n",
                            " Row(id='8188d809-e305-4d58-b633-78757c41f764'),\n",
                            " Row(id='83759dc8-9ef0-4b6f-a8ea-78f5ad99386e'),\n",
                            " Row(id='ef61e309-dfd1-4188-8e00-11ae777fd137'),\n",
                            " Row(id='3a3bc68c-33dc-41c8-9beb-69f6a133728e'),\n",
                            " Row(id='6f8031d1-4863-406d-a8ea-47fc4bc6c5f7'),\n",
                            " Row(id='da1ad405-c3ee-4c86-a352-7e89d1763172'),\n",
                            " Row(id='f4808478-795d-4dc2-8db2-4e5d58bbd905')]"
                        ]
                    },
                    "metadata": {},
                    "execution_count": 40
                }
            ],
            "metadata": {}
        },
        {
            "cell_type": "code",
            "execution_count": 38,
            "source": [
                "qry_keyword= '''select id from keyword where keyword='فوتبال' and sendtime >= '2021-07-20 00:00:00+0000' and sendtime <= '2021-07-20 23:59:59+0000' LIMIT 20 ALLOW FILTERING;'''\n",
                "result=session.execute(qry_keyword)\n",
                "result._current_rows"
            ],
            "outputs": [
                {
                    "output_type": "execute_result",
                    "data": {
                        "text/plain": [
                            "[Row(id='a73c223e-3873-4fef-81ec-daeb80c1f651'),\n",
                            " Row(id='5cadb9f9-f7f1-4681-895c-589c4e0feb6b'),\n",
                            " Row(id='e9b710e5-29db-4e00-9e80-13d68e4bac3b'),\n",
                            " Row(id='6287e143-d271-45a4-b766-c150046bb307'),\n",
                            " Row(id='9c1af411-031b-403b-8871-7ee86109da4b'),\n",
                            " Row(id='adb8b90c-e7c2-4891-99e1-1bcd24ecad13'),\n",
                            " Row(id='960702fa-cb49-4adc-ae0f-f20262b2925d'),\n",
                            " Row(id='6184df50-e189-4b55-ae18-25bee94ac639'),\n",
                            " Row(id='a81172d8-a0bd-4a47-adbc-a1857f40fb74'),\n",
                            " Row(id='adc2d575-5eb0-477c-8ca1-eaef034c1991'),\n",
                            " Row(id='8457672d-a345-42c9-9d6f-a55a88620955'),\n",
                            " Row(id='8d33bb13-80d2-4aa5-b95b-a4b03ae68f1d'),\n",
                            " Row(id='3b5378ad-6242-45c8-92f2-98de9202762e'),\n",
                            " Row(id='a6b69834-4cd7-4dae-92cd-1a19f7cdf105'),\n",
                            " Row(id='5cc37c19-4469-46b3-ad5d-483ee411a832'),\n",
                            " Row(id='fb3577b0-2f3d-44fd-90d8-1233767d5e19'),\n",
                            " Row(id='e1330b6d-24a1-4ffa-88fb-c86d42f9cf40'),\n",
                            " Row(id='775f33c8-0b6b-4b05-b5a0-334b6a62027e'),\n",
                            " Row(id='e15f8a60-9a37-45c6-bbb2-351e07059893'),\n",
                            " Row(id='324c490c-c01e-4394-afa9-8b9f4e85b031')]"
                        ]
                    },
                    "metadata": {},
                    "execution_count": 38
                }
            ],
            "metadata": {}
        },
        {
            "cell_type": "code",
            "execution_count": null,
            "source": [],
            "outputs": [],
            "metadata": {}
        }
    ],
    "metadata": {
        "orig_nbformat": 4,
        "language_info": {
            "name": "python"
        }
    },
    "nbformat": 4,
    "nbformat_minor": 2
}