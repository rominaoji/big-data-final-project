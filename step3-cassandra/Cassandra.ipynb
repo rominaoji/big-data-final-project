{
 "metadata": {
  "language_info": {
   "codemirror_mode": {
    "name": "ipython",
    "version": 3
   },
   "file_extension": ".py",
   "mimetype": "text/x-python",
   "name": "python",
   "nbconvert_exporter": "python",
   "pygments_lexer": "ipython3",
   "version": "3.8.5"
  },
  "orig_nbformat": 4,
  "kernelspec": {
   "name": "python3",
   "display_name": "Python 3.8.5 64-bit ('base': conda)"
  },
  "interpreter": {
   "hash": "dfb266c6734d3ead590a98ae336d5335cc5957c6796a498cc7f8c5fc53f26327"
  }
 },
 "nbformat": 4,
 "nbformat_minor": 2,
 "cells": [
  {
   "cell_type": "code",
   "execution_count": 109,
   "source": [
    "from datetime import datetime\n",
    "import json\n",
    "from kafka import KafkaConsumer"
   ],
   "outputs": [],
   "metadata": {}
  },
  {
   "cell_type": "code",
   "execution_count": 110,
   "source": [
    "consumer=KafkaConsumer(bootstrap_servers='185.236.37.254:9092')\n",
    "consumer.subscribe('preProcessedData')"
   ],
   "outputs": [],
   "metadata": {}
  },
  {
   "cell_type": "code",
   "execution_count": 85,
   "source": [
    "from cassandra.cluster import Cluster\n",
    "clstr=Cluster()\n",
    "session=clstr.connect()"
   ],
   "outputs": [],
   "metadata": {}
  },
  {
   "cell_type": "code",
   "execution_count": 86,
   "source": [
    "qry_create_keyspace = '''\n",
    "CREATE KEYSPACE \"keystore\"\n",
    "WITH replication = {'class': 'SimpleStrategy', 'replication_factor' : '2'};\n",
    "'''\n",
    "session.execute(qry_create_keyspace)"
   ],
   "outputs": [
    {
     "output_type": "execute_result",
     "data": {
      "text/plain": [
       "<cassandra.cluster.ResultSet at 0x7fec88eff220>"
      ]
     },
     "metadata": {},
     "execution_count": 86
    }
   ],
   "metadata": {}
  },
  {
   "cell_type": "code",
   "execution_count": 96,
   "source": [
    "session = clstr.connect('keystore')"
   ],
   "outputs": [],
   "metadata": {}
  },
  {
   "cell_type": "code",
   "execution_count": 182,
   "source": [
    "qry_create_table_posts = '''\n",
    "CREATE TABLE IF NOT EXISTS posts(\n",
    "   id TEXT,\n",
    "   sender TEXT,\n",
    "   sendtime TIMESTAMP,\n",
    "   day int,\n",
    "   month int,\n",
    "   hour int,\n",
    "   PRIMARY KEY((day, month, hour), sendtime))\n",
    "WITH CLUSTERING ORDER BY (sendtime desc); '''\n",
    "session.execute(qry_create_table_posts)"
   ],
   "outputs": [
    {
     "output_type": "execute_result",
     "data": {
      "text/plain": [
       "<cassandra.cluster.ResultSet at 0x7fec78146790>"
      ]
     },
     "metadata": {},
     "execution_count": 182
    }
   ],
   "metadata": {}
  },
  {
   "cell_type": "code",
   "execution_count": 183,
   "source": [
    "qry_create_table_channel = '''\n",
    "CREATE TABLE IF NOT EXISTS channel(\n",
    "   id TEXT,\n",
    "   sender TEXT,\n",
    "   sendtime TIMESTAMP,\n",
    "   PRIMARY KEY(sender, sendtime))\n",
    "WITH CLUSTERING ORDER BY (sendtime desc); '''\n",
    "session.execute(qry_create_table_channel)"
   ],
   "outputs": [
    {
     "output_type": "execute_result",
     "data": {
      "text/plain": [
       "<cassandra.cluster.ResultSet at 0x7fec984191c0>"
      ]
     },
     "metadata": {},
     "execution_count": 183
    }
   ],
   "metadata": {}
  },
  {
   "cell_type": "code",
   "execution_count": 184,
   "source": [
    "qry_create_table_keyword = '''\n",
    "CREATE TABLE IF NOT EXISTS keyword(\n",
    "   id TEXT,\n",
    "   keyword TEXT,\n",
    "   sendtime TIMESTAMP,\n",
    "   PRIMARY KEY(keyword, sendtime))\n",
    "WITH CLUSTERING ORDER BY (sendtime desc); '''\n",
    "session.execute(qry_create_table_keyword)"
   ],
   "outputs": [
    {
     "output_type": "execute_result",
     "data": {
      "text/plain": [
       "<cassandra.cluster.ResultSet at 0x7fec88592940>"
      ]
     },
     "metadata": {},
     "execution_count": 184
    }
   ],
   "metadata": {}
  },
  {
   "cell_type": "code",
   "execution_count": 172,
   "source": [
    "prepared_posts = session.prepare(\"\"\"INSERT INTO posts (id, sender, sendtime, day, month, hour) VALUES (?,?,?,?,?,?)\"\"\")\n",
    "prepared_channel = session.prepare(\"\"\"INSERT INTO channel (id, sender, sendtime) VALUES (?,?,?)\"\"\")\n",
    "prepared_keyword = session.prepare(\"\"\"INSERT INTO keyword (id, keyword, sendtime) VALUES (?,?,?)\"\"\")"
   ],
   "outputs": [],
   "metadata": {}
  },
  {
   "cell_type": "code",
   "execution_count": 208,
   "source": [
    "for msg in consumer:\n",
    "    d=json.loads(msg.value.decode('utf-8'))\n",
    "\n",
    "    id = ''\n",
    "    sender = 'Undefiend'\n",
    "    sendtime = datetime.now().replace(microsecond = 0)\n",
    "    day = 0\n",
    "    month = 0\n",
    "    hour = 0\n",
    "\n",
    "    if d['id'] != None :\n",
    "        id = d['id']\n",
    "    \n",
    "    if d['send_time'] != None :\n",
    "        day = datetime.fromtimestamp(d['send_time']).day\n",
    "        month = datetime.fromtimestamp(d['send_time']).month\n",
    "        hour = datetime.fromtimestamp(d['send_time']).hour\n",
    "        sendtime = datetime.fromtimestamp(d['send_time']).replace(microsecond=0)\n",
    "\n",
    "    if d['sender_username'] != None :\n",
    "        sender = d['sender_username']\n",
    "\n",
    "    session.execute(prepared_posts, [id, sender, sendtime, day, month, hour])\n",
    "    session.execute(prepared_channel, [id, sender, sendtime])\n",
    "    if len(d['keywords']) > 0 :\n",
    "        for i in d['keywords']:\n",
    "            session.execute(prepared_keyword, [id, i, sendtime])\n",
    "    \n",
    "    if len(d['hashtags']) > 0 :\n",
    "        for i in d['hashtags']:\n",
    "            session.execute(prepared_keyword, [id, i, sendtime])        "
   ],
   "outputs": [],
   "metadata": {}
  },
  {
   "cell_type": "code",
   "execution_count": null,
   "source": [],
   "outputs": [],
   "metadata": {}
  }
 ]
}